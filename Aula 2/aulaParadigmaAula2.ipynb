{
  "nbformat": 4,
  "nbformat_minor": 0,
  "metadata": {
    "colab": {
      "provenance": []
    },
    "kernelspec": {
      "name": "python3",
      "display_name": "Python 3"
    },
    "language_info": {
      "name": "python"
    }
  },
  "cells": [
    {
      "cell_type": "markdown",
      "source": [
        "programa de calcular media de dois numero"
      ],
      "metadata": {
        "id": "1ZXMDLS6NL3m"
      }
    },
    {
      "cell_type": "markdown",
      "source": [],
      "metadata": {
        "id": "XSJy8v0ODlod"
      }
    },
    {
      "cell_type": "code",
      "source": [
        "nota1 = float(input(\"informe a primeira nota \"))\n",
        "nota2 = float(input(\"informe a segunda nota \"))\n",
        "med = (nota1 + nota2)/2\n",
        "print(\"a media é: \")\n",
        "print(med)"
      ],
      "metadata": {
        "colab": {
          "base_uri": "https://localhost:8080/"
        },
        "id": "yPOMV9ugNTue",
        "outputId": "8be0fe0e-817a-4138-923c-9f2e02955836"
      },
      "execution_count": null,
      "outputs": [
        {
          "output_type": "stream",
          "name": "stdout",
          "text": [
            "informe a primeira nota10\n",
            "informe a segunda nota10\n",
            "a media é: \n",
            "10.0\n"
          ]
        }
      ]
    },
    {
      "cell_type": "markdown",
      "source": [
        "melhorando o código com modularização"
      ],
      "metadata": {
        "id": "GjYHuEImO1oH"
      }
    },
    {
      "cell_type": "code",
      "source": [
        "def calcMedia(num1, num2):\n",
        "    media = (num1 + num2)/2\n",
        "    print(\"A média é: \", media)\n",
        "\n",
        "\n",
        "nota1 = float(input(\"informe a primeira nota \"))\n",
        "nota2 = float(input(\"informe a segunda nota \"))\n",
        "\n",
        "calcMedia(nota1, nota2)"
      ],
      "metadata": {
        "colab": {
          "base_uri": "https://localhost:8080/"
        },
        "id": "oh6KPRfAOEVK",
        "outputId": "2962d162-2e20-4541-8340-669bf55b124f"
      },
      "execution_count": null,
      "outputs": [
        {
          "output_type": "stream",
          "name": "stdout",
          "text": [
            "informe a primeira nota 10\n",
            "informe a segunda nota 10\n",
            "A média é:  10.0\n"
          ]
        }
      ]
    },
    {
      "cell_type": "code",
      "source": [],
      "metadata": {
        "id": "QWt4dyPpQDSK"
      },
      "execution_count": null,
      "outputs": []
    },
    {
      "cell_type": "markdown",
      "source": [
        "Programa que solicita o preco de uma mercadoria e o percentual de desconto. Depois exibe o desconto e preco a pagar"
      ],
      "metadata": {
        "id": "g0AvwTdKR0mU"
      }
    },
    {
      "cell_type": "code",
      "source": [
        "def calcDesconto (valor, percentual):\n",
        "   desconto = valor*percentual/100\n",
        "   return desconto\n",
        "def calcValorDesconto (valor, percentual):\n",
        "  desconto = calcDesconto(valor, percentual)\n",
        "  valorDescontado = valor - desconto\n",
        "  print(\"O valor com desconto é: \", valorDescontado)\n",
        "  print(\"O valor do desconto foi: \", desconto)\n",
        "\n",
        "\n",
        "valorInserido = float(input(\"Insira o valor : \"))\n",
        "percentualDesejado = float(input(\"Insira o percentual : \"))\n",
        "\n",
        "calcValorDesconto(valorInserido, percentualDesejado)\n"
      ],
      "metadata": {
        "colab": {
          "base_uri": "https://localhost:8080/"
        },
        "id": "qFftfV9BO6Uu",
        "outputId": "bf41bc66-7058-49e1-8412-4ad6a9df8b5a"
      },
      "execution_count": null,
      "outputs": [
        {
          "output_type": "stream",
          "name": "stdout",
          "text": [
            "Insira o valor : 10\n",
            "Insira o percentual : 10\n",
            "O valor com desconto é:  9.0\n",
            "O valor do desconto foi:  1.0\n"
          ]
        }
      ]
    },
    {
      "cell_type": "markdown",
      "source": [
        "programa para calcular redução do tempo de vida de um fumante. Pergunte a quantidade de de cigarros fumados por dia e quantos anos ele ja fumou. considere que um fumante perde 10 minutos de vida por cada cigarro e calcule quantos dias de vida o fumante perderá. exiba o total em dias."
      ],
      "metadata": {
        "id": "cbV7J5iuVr1p"
      }
    },
    {
      "cell_type": "code",
      "source": [
        "def calcCigarrosEmMin(quantidadePorDia, anosDeFumante):\n",
        "  return anosDeFumante * 365 * quantidadePorDia * 10\n",
        "\n",
        "def calcCigarrosEmDias(quantidadePorDia, anosDeFumante):\n",
        "  reduçãoEmDias = (calcCigarrosEmMin(quantidadePorDia, anosDeFumante))/(24 * 60)\n",
        "  print(\"A redução de tempo de vida foi de %8.2f dias. \" % reduçãoEmDias )\n",
        "\n",
        "\n",
        "cigarrosPorDia = int(input(\"informe  a qtd de cigarros por dia: \"))\n",
        "anosDeFumante = float(input(\"informe  quantos anos de fumante: \"))\n",
        "\n",
        "calcCigarrosEmDias(cigarrosPorDia, anosDeFumante)\n"
      ],
      "metadata": {
        "colab": {
          "base_uri": "https://localhost:8080/"
        },
        "id": "CASWDJs6WfO4",
        "outputId": "6c76ea94-4052-4f14-9d23-b97c5477dc54"
      },
      "execution_count": null,
      "outputs": [
        {
          "output_type": "stream",
          "name": "stdout",
          "text": [
            "informe  a qtd de cigarros por dia: 2\n",
            "informe  quantos anos de fumante: 1\n",
            "A redução de tempo de vida foi de     5.07 dias. \n"
          ]
        }
      ]
    },
    {
      "cell_type": "markdown",
      "source": [
        "Escreva um programa que pergunte o salário do funcionário e calcule o valor do aumento. Para salários superiores a R$ 1.250,00, calcule um aumento de 10%. Para os inferiores ou iguais, de 15%."
      ],
      "metadata": {
        "id": "1_eULq-rG228"
      }
    },
    {
      "cell_type": "code",
      "source": [
        "def calculoAumento (salario, pc_aumento):\n",
        "  if(salario > 1250):\n",
        "    pc_aumento = 0.10\n",
        "\n",
        "  aumento = salario * pc_aumento\n",
        "\n",
        "  print(f\"Seu aumento será de: R$ {aumento:7.2f}\")\n",
        "  print(f\"O percentual de aumento foi: R$ {pc_aumento:7.2f}\")\n",
        "\n",
        "salario = float(input(\"Digite seu salário: \"))\n",
        "pc_aumento = 0.15\n",
        "\n",
        "calculoAumento(salario, pc_aumento)\n",
        "\n",
        "\n"
      ],
      "metadata": {
        "colab": {
          "base_uri": "https://localhost:8080/"
        },
        "id": "6qgT-ECMG1Oq",
        "outputId": "8a909bd0-55c6-49b8-f0da-69f5af3bf903"
      },
      "execution_count": null,
      "outputs": [
        {
          "output_type": "stream",
          "name": "stdout",
          "text": [
            "Digite seu salário: 1249\n",
            "Seu aumento será de: R$  187.35\n",
            "O percentual de aumento foi: R$    0.15\n"
          ]
        }
      ]
    },
    {
      "cell_type": "markdown",
      "source": [],
      "metadata": {
        "id": "XZW1SLUoDzJV"
      }
    },
    {
      "cell_type": "code",
      "source": [
        "def calcConsumo (consumo, tipo):\n",
        "  if(tipo == \"R\"):\n",
        "    if(consumo <= 500):\n",
        "      preco = 0.40\n",
        "    else:\n",
        "      preco = 0.65\n",
        "  elif (tipo == \"I\"):\n",
        "    if(consumo <= 5000):\n",
        "      preco = 0.55\n",
        "    else:\n",
        "      preco = 0.60\n",
        "  elif (tipo == \"C\" ):\n",
        "    if(consumo <= 1000):\n",
        "      preco = 0.55\n",
        "    else:\n",
        "      preco = 0.60\n",
        "  else:\n",
        "    preco = 0\n",
        "    print(\"Erro! Tipo de instalação desconhecido!\")\n",
        "\n",
        "  custo = consumo * preco\n",
        "  return print(f\"Valor a pagar: R$ {custo:7.2f}\")\n",
        "\n",
        "consumo = int(input(\"Consumo em kWh: \"))\n",
        "tipo = input(\"Tipo da instalação (R, C ou I): \")\n",
        "\n",
        "calcConsumo(consumo, tipo)"
      ],
      "metadata": {
        "colab": {
          "base_uri": "https://localhost:8080/"
        },
        "id": "rtvzSV44J5Zp",
        "outputId": "7e96e8e4-0d91-4700-8ceb-01df8a9c8c2d"
      },
      "execution_count": null,
      "outputs": [
        {
          "output_type": "stream",
          "name": "stdout",
          "text": [
            "Consumo em kWh: 5\n",
            "Tipo da instalação (R, C ou I): C\n",
            "Valor a pagar: R$    2.75\n"
          ]
        }
      ]
    },
    {
      "cell_type": "markdown",
      "source": [
        "Escreva um programa que compare duas listas. Utilizando operações com conjuntos, imprima: • os valores comuns às duas listas • os valores que só existem na primeira • os valores que existem apenas na segunda • uma lista com os elementos não repetidos das duas listas. • a primeira lista sem os elementos repetidos na segunda"
      ],
      "metadata": {
        "id": "baMumlssMMsk"
      }
    },
    {
      "cell_type": "code",
      "source": [
        "def valoresComuns(lista1, lista2):\n",
        "  conjunto_1 = set(L1)\n",
        "  conjunto_2 = set(L2)\n",
        "\n",
        "  print(\"Valores comuns às duas listas: \", conjunto_1 & conjunto_2)\n",
        "\n",
        "def valoresNaPrimeira(lista1, lista2):\n",
        "  conjunto_1 = set(L1)\n",
        "  conjunto_2 = set(L2)\n",
        "\n",
        "  print(\"Valores que só existem na primeira:\", conjunto_1 - conjunto_2)\n",
        "\n",
        "def valoresNaSegunda(lista1, lista2):\n",
        "  conjunto_1 = set(L1)\n",
        "  conjunto_2 = set(L2)\n",
        "  print(\"Valores que só existem na segunda:\", conjunto_2 - conjunto_1)\n",
        "\n",
        "def valoresNaoRepetidos(lista1, lista2):\n",
        "  conjunto_1 = set(L1)\n",
        "  conjunto_2 = set(L2)\n",
        "  print(\"Elementos não repetidos nas duas listas:\", conjunto_1 ^ conjunto_2)\n",
        "\n",
        "def valoresRepetidos(lista1, lista2):\n",
        "  conjunto_1 = set(L1)\n",
        "  conjunto_2 = set(L2)\n",
        "  print(\"Primeira lista, sem os elementos repetidos na segunda:\",\n",
        "      conjunto_1 - conjunto_2)\n",
        "\n",
        "\n",
        "L1 = [1, 2, 6, 8]\n",
        "L2 = [3, 6, 8, 9]\n",
        "\n",
        "print(f\"Lista 1: {L1}\\n\")\n",
        "print(f\"Lista 2: {L2}\\n\")\n",
        "\n",
        "valoresComuns(L1,L2)\n",
        "\n",
        "valoresNaPrimeira(L1,L2)\n",
        "\n",
        "valoresNaSegunda(L1,L2)\n",
        "\n",
        "valoresNaoRepetidos(L1,L2)\n",
        "\n",
        "valoresRepetidos(L1,L2)\n",
        "\n"
      ],
      "metadata": {
        "colab": {
          "base_uri": "https://localhost:8080/"
        },
        "id": "NTPfUVmUHYJN",
        "outputId": "2ceecf67-4efe-41d7-8886-dce5166154a2"
      },
      "execution_count": null,
      "outputs": [
        {
          "output_type": "stream",
          "name": "stdout",
          "text": [
            "Lista 1: [1, 2, 6, 8]\n",
            "\n",
            "Lista 2: [3, 6, 8, 9]\n",
            "\n",
            "Valores comuns às duas listas:  {8, 6}\n",
            "Valores que só existem na primeira: {1, 2}\n",
            "Valores que só existem na segunda: {9, 3}\n",
            "Elementos não repetidos nas duas listas: {1, 2, 3, 9}\n",
            "Primeira lista, sem os elementos repetidos na segunda: {1, 2}\n"
          ]
        }
      ]
    },
    {
      "cell_type": "markdown",
      "source": [
        "Altere o programa anterior de forma a perguntar também o valor depositado mensalmente. Esse valor será depositado no início de cada mês, e você deve considerá-lo para o cálculo de juros do mês seguinte."
      ],
      "metadata": {
        "id": "qVS6WkS3LRso"
      }
    },
    {
      "cell_type": "code",
      "source": [
        "depósito = float(input(\"Depósito inicial: \"))\n",
        "taxa = float(input(\"Taxa de juros (Ex.: 3 para 3%): \"))\n",
        "investimento = float(input(\"Depósito mensal: \"))\n",
        "mês = 1\n",
        "saldo = depósito\n",
        "\n",
        "while mês <= 24:\n",
        "    saldo = saldo + (saldo * (taxa / 100)) + investimento\n",
        "    print(f\"Saldo do mês {mês} é de R${saldo:5.2f}.\")\n",
        "    mês = mês + 1\n",
        "print(f\"O ganho obtido com os juros foi de R${saldo-depósito:8.2f}.\")"
      ],
      "metadata": {
        "id": "pVXzcsVgLVVz"
      },
      "execution_count": null,
      "outputs": []
    },
    {
      "cell_type": "markdown",
      "source": [
        "Escreva um programa para controlar uma pequena máquina registradora. Você deve solicitar ao usuário que digite o código do produto e a quantidade comprada. Utilize a tabela de códigos a seguir para obter o preço de cada produto:\n",
        "\n",
        "Código Preço 1 0,50 2 1,00 3 4,00 5 7,00 9 8,00 Seu programa deve exibir o total das compras depois que o usuário digitar 0. Qualquer outro código deve gerar a mensagem de erro “Código inválido”."
      ],
      "metadata": {
        "id": "QcQN-TAOLzdP"
      }
    },
    {
      "cell_type": "code",
      "source": [
        "def valorA_pagar(preço):\n",
        "  apagar = 0\n",
        "  if preço != 0:\n",
        "      quantidade = int(input(\"Quantidade: \"))\n",
        "      apagar = apagar + (preço * quantidade)\n",
        "\n",
        "  print(f\"Total a pagar R${apagar:8.2f}\")\n",
        "\n",
        "def pedido():\n",
        "  while True:\n",
        "    código = int(input(\"Código da mercadoria (0 para sair): \"))\n",
        "    preço = 0\n",
        "    if código == 0:\n",
        "        break\n",
        "    elif código == 1:\n",
        "        preço = 0.50\n",
        "    elif código == 2:\n",
        "        preço = 1.00\n",
        "    elif código == 3:\n",
        "        preço = 4.00\n",
        "    elif código == 5:\n",
        "        preço = 7.00\n",
        "    elif código == 9:\n",
        "        preço = 8.00\n",
        "    else:\n",
        "        print(\"Código inválido!\")\n",
        "\n",
        "    return preço;\n",
        "\n",
        "valorA_pagar(pedido())"
      ],
      "metadata": {
        "id": "3hEauR9wL04u",
        "colab": {
          "base_uri": "https://localhost:8080/"
        },
        "outputId": "ec4ecc84-f35b-48f1-c15c-f89e7b5be00b"
      },
      "execution_count": 3,
      "outputs": [
        {
          "output_type": "stream",
          "name": "stdout",
          "text": [
            "Código da mercadoria (0 para sair): 2\n",
            "Quantidade: 2\n",
            "Total a pagar R$    2.00\n"
          ]
        }
      ]
    }
  ]
}
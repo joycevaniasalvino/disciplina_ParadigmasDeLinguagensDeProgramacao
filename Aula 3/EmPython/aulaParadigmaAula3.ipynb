{
  "nbformat": 4,
  "nbformat_minor": 0,
  "metadata": {
    "colab": {
      "provenance": []
    },
    "kernelspec": {
      "name": "python3",
      "display_name": "Python 3"
    },
    "language_info": {
      "name": "python"
    }
  },
  "cells": [
    {
      "cell_type": "markdown",
      "source": [
        "Aula 3"
      ],
      "metadata": {
        "id": "8bFV5vlRyjW2"
      }
    },
    {
      "cell_type": "markdown",
      "source": [
        "Escreva um programa para controlar uma pequena máquina registradora. Você deve solicitar ao usuário que digite o código do produto e a quantidade comprada. Utilize a tabela de códigos a seguir para obter o preço de cada produto:\n",
        "\n",
        "Código Preço 1 0,50 2 1,00 3 4,00 5 7,00 9 8,00 Seu programa deve exibir o total das compras depois que o usuário digitar 0. Qualquer outro código deve gerar a mensagem de erro “Código inválido”."
      ],
      "metadata": {
        "id": "lIAUTCCYynhj"
      }
    },
    {
      "cell_type": "code",
      "source": [
        "apagar = 0\n",
        "while True:\n",
        "    código = int(input(\"Código da mercadoria (0 para sair): \"))\n",
        "    preço = 0\n",
        "    if código == 0:\n",
        "        break\n",
        "    elif código == 1:\n",
        "        preço = 0.50\n",
        "    elif código == 2:\n",
        "        preço = 1.00\n",
        "    elif código == 3:\n",
        "        preço = 4.00\n",
        "    elif código == 5:\n",
        "        preço = 7.00\n",
        "    elif código == 9:\n",
        "        preço = 8.00\n",
        "    else:\n",
        "        print(\"Código inválido!\")\n",
        "    if preço != 0:\n",
        "        quantidade = int(input(\"Quantidade: \"))\n",
        "        apagar = apagar + (preço * quantidade)\n",
        "print(f\"Total a pagar R${apagar:8.2f}\")"
      ],
      "metadata": {
        "colab": {
          "base_uri": "https://localhost:8080/"
        },
        "id": "WLyZlSmlymRD",
        "outputId": "6b618fc9-fc9e-4421-b076-3e12723d5c4f"
      },
      "execution_count": 1,
      "outputs": [
        {
          "output_type": "stream",
          "name": "stdout",
          "text": [
            "Código da mercadoria (0 para sair): 1\n",
            "Quantidade: 2\n",
            "Código da mercadoria (0 para sair): 0\n",
            "Total a pagar R$    1.00\n"
          ]
        }
      ]
    }
  ]
}
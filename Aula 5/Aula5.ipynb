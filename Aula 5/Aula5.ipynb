{
  "nbformat": 4,
  "nbformat_minor": 0,
  "metadata": {
    "colab": {
      "provenance": []
    },
    "kernelspec": {
      "name": "python3",
      "display_name": "Python 3"
    },
    "language_info": {
      "name": "python"
    }
  },
  "cells": [
    {
      "cell_type": "markdown",
      "source": [
        "Aula 5 - 14/09"
      ],
      "metadata": {
        "id": "jhF5ypMpdXKR"
      }
    },
    {
      "cell_type": "markdown",
      "source": [
        "Lê um vetor de 8 posições e em seguida lê dois valores x e y quaisquer correspondentes a duas posições no vetor o programa então imprime a soma dos valores encontrados nas respectivas posições x e y.\n",
        "\n",
        "O que implementei: Se o usuário inserir valor de posição inválida, tem as funções pra verificar os valores e pedir nova inserção."
      ],
      "metadata": {
        "id": "ztMkSNUKmw5H"
      }
    },
    {
      "cell_type": "code",
      "source": [
        "def verificaPosicaoX(x):\n",
        "    if x > 7 or x < 0:\n",
        "        print(\"Posição X inválida. Digite novamente.\")\n",
        "        x = int(input(\"Digite o valor de X: \"))\n",
        "        return verificaPosicaoX(x)\n",
        "    return x\n",
        "\n",
        "def verificaPosicaoY(y):\n",
        "    if y > 7 or y < 0:\n",
        "        print(\"Posição Y inválida. Digite novamente.\")\n",
        "        y = int(input(\"Digite o valor de Y: \"))\n",
        "        return verificaPosicaoY(y)\n",
        "    return y\n",
        "\n",
        "def main():\n",
        "  vetor = [0] * 8\n",
        "\n",
        "  for i in range(8):\n",
        "      vetor[i] = int(input(\"Digite o valor da posição {}: \".format(i)))\n",
        "\n",
        "  x = int(input(\"Digite o valor de X: \"))\n",
        "  rx = verificaPosicaoX(x)\n",
        "  y = int(input(\"Digite o valor de Y: \"))\n",
        "  ry = verificaPosicaoY(y)\n",
        "\n",
        "  print(\"O valor na posição X é:\", vetor[rx])\n",
        "  print(\"O valor na posição Y é:\", vetor[ry])\n",
        "\n",
        "  soma = vetor[rx] + vetor[ry]\n",
        "\n",
        "  print(\"A soma dos valores nas posições X e Y é: {}\".format(soma))\n",
        "\n",
        "if __name__ == \"__main__\":\n",
        "    main()"
      ],
      "metadata": {
        "colab": {
          "base_uri": "https://localhost:8080/"
        },
        "id": "YpUa31cJdac3",
        "outputId": "ecf34b71-4ebb-4658-a07c-01533bc46be6"
      },
      "execution_count": 28,
      "outputs": [
        {
          "output_type": "stream",
          "name": "stdout",
          "text": [
            "Digite o valor da posição 0: 1\n",
            "Digite o valor da posição 1: 1\n",
            "Digite o valor da posição 2: 1\n",
            "Digite o valor da posição 3: 1\n",
            "Digite o valor da posição 4: 1\n",
            "Digite o valor da posição 5: 1\n",
            "Digite o valor da posição 6: 1\n",
            "Digite o valor da posição 7: 1\n",
            "Digite o valor de X: 1\n",
            "Digite o valor de Y: 2\n",
            "O valor na posição X é: 1\n",
            "O valor na posição Y é: 1\n",
            "A soma dos valores nas posições X e Y é: 2\n"
          ]
        }
      ]
    },
    {
      "cell_type": "markdown",
      "source": [
        "Faça um programa em python que receba do usuário um vetor com 10 posicoes em seguida devera ser impresso o maior e menor elemento do vetor, a soma de todos os elementos, a média de todos os elemetos, numero de elementos >= 5."
      ],
      "metadata": {
        "id": "h-hUtMAikU5_"
      }
    },
    {
      "cell_type": "code",
      "source": [
        "def main():\n",
        "  vetor = []\n",
        "  soma = 0\n",
        "  maiorQCinco = 0\n",
        "\n",
        "  for i in range(10):\n",
        "    vetor.append(int(input(\"Digite o elemento %d: \" %i)))\n",
        "    soma = soma + vetor[i]\n",
        "\n",
        "    if vetor[i] > 5:\n",
        "      maiorQCinco += 1\n",
        "\n",
        "  maior = vetor[0]\n",
        "  menor = vetor[0]\n",
        "\n",
        "  for i in range(len(vetor)):\n",
        "    if vetor[i] > maior:\n",
        "      maior = vetor[i]\n",
        "    elif vetor[i] < menor:\n",
        "      menor = vetor[i]\n",
        "\n",
        "  media = soma/len(vetor)\n",
        "\n",
        "  print (\"O maior elemento do vetor é %d. \" % maior)\n",
        "  print (\"O menor elemento do vetor é %d. \" % menor)\n",
        "  print (\"A soma de todos os elementos do vetor é %d. \" % soma)\n",
        "  print (\"A média de todos os elementos do vetor é %d. \" % media)\n",
        "  print (\"O número de elementos > 5 é %d\" % maiorQCinco)\n",
        "\n",
        "if __name__ == \"__main__\":\n",
        "  main()"
      ],
      "metadata": {
        "colab": {
          "base_uri": "https://localhost:8080/"
        },
        "id": "gy0reRevlBj8",
        "outputId": "f354a436-bd2f-41fa-a136-e0d080a5f62b"
      },
      "execution_count": 38,
      "outputs": [
        {
          "output_type": "stream",
          "name": "stdout",
          "text": [
            "Digite o elemento 0: 12\n",
            "Digite o elemento 1: 1\n",
            "Digite o elemento 2: 2\n",
            "Digite o elemento 3: 1\n",
            "Digite o elemento 4: 2\n",
            "Digite o elemento 5: 2\n",
            "Digite o elemento 6: 2\n",
            "Digite o elemento 7: 2\n",
            "Digite o elemento 8: 2\n",
            "Digite o elemento 9: 2\n",
            "O maior elemento do vetor é 12. \n",
            "O menor elemento do vetor é 1. \n",
            "A soma de todos os elementos do vetor é 28. \n",
            "A média de todos os elementos do vetor é 2. \n",
            "O número de elementos > 5 é 1\n"
          ]
        }
      ]
    },
    {
      "cell_type": "markdown",
      "source": [
        "Outros exercícios"
      ],
      "metadata": {
        "id": "cvy8P0XiLLgv"
      }
    },
    {
      "cell_type": "markdown",
      "source": [
        "Faça um programa em Python para gerar automaticamente numeros entre 0 e 99 de uma cartela de bingo. Sabendo que cada cartela devera conter 5 linhas de 5 numeros, gere estes dados de modo a nao ter numeros repetidos dentro das cartelas. O programa deve exibir na tela a cartela gerada."
      ],
      "metadata": {
        "id": "IqWHklLZL_xx"
      }
    },
    {
      "cell_type": "code",
      "source": [
        "import random\n",
        "\n",
        "def gerar_cartela():\n",
        "    numeros = set()\n",
        "    # Cria uma matriz 5x5\n",
        "    cartela = [[0] * 5 for _ in range(5)]\n",
        "    for i in range(5):\n",
        "        for j in range(5):\n",
        "            numero = random.randint(0, 99)\n",
        "            while numero in numeros:\n",
        "                numero = random.randint(0, 99)\n",
        "            numeros.add(numero)\n",
        "            cartela[i][j] = numero\n",
        "    return cartela\n",
        "\n",
        "def main():\n",
        "    cartela = gerar_cartela()\n",
        "    print(\"Cartela de bingo:\\n\")\n",
        "\n",
        "    for linha in cartela:\n",
        "        for numero in linha:\n",
        "          # Formata o número com dois dígitos\n",
        "          print(f\"{numero:2d}\", end=\" \")\n",
        "        # Pula para a próxima linha após cada linha da matriz\n",
        "        print()\n",
        "\n",
        "if __name__ == \"__main__\":\n",
        "    main()\n"
      ],
      "metadata": {
        "colab": {
          "base_uri": "https://localhost:8080/"
        },
        "id": "P8p0NiidMI48",
        "outputId": "9dd8b62d-4078-4556-8d73-7133c7c0a1c3"
      },
      "execution_count": 51,
      "outputs": [
        {
          "output_type": "stream",
          "name": "stdout",
          "text": [
            "Cartela de bingo:\n",
            "\n",
            "78 92 32 77 72 \n",
            "74 91 16 69 50 \n",
            "85 25 34 94 22 \n",
            "98 29 36 99  3 \n",
            "68 87 88 56 55 \n"
          ]
        }
      ]
    },
    {
      "cell_type": "markdown",
      "source": [
        "Faça um Programa em Python que Leia uma matriz 10 x 3 com as notas de 10 alunos em 3 provas. Em seguida, escreva o numero de alunos cuja pior nota foi na prova 1, o número de alunos cuja pior nota foi na prova 2, e o numero de alunos cuja pior nota foi na prova 3. Em caso de empate das piores notas de um aluno, o critério de desempate  e arbitrário, mas o aluno deve ser contabilizado apenas uma vez."
      ],
      "metadata": {
        "id": "rQ_HXeV7PvyY"
      }
    },
    {
      "cell_type": "code",
      "source": [
        "def main():\n",
        "    matriz = []\n",
        "    for i in range(10):\n",
        "        matriz.append([int(input(\"Digite a nota do aluno %d na prova 1: \" % i)),\n",
        "                      int(input(\"Digite a nota do aluno %d na prova 2: \" % i)),\n",
        "                      int(input(\"Digite a nota do aluno %d na prova 3: \" % i))])\n",
        "\n",
        "    alunos_prova_1 = 0\n",
        "    alunos_prova_2 = 0\n",
        "    alunos_prova_3 = 0\n",
        "\n",
        "    for aluno in matriz:\n",
        "        pior_nota = aluno[0]\n",
        "        if pior_nota > aluno[1]:\n",
        "            pior_nota = aluno[1]\n",
        "        if pior_nota > aluno[2]:\n",
        "            pior_nota = aluno[2]\n",
        "\n",
        "        if pior_nota == aluno[0]:\n",
        "            alunos_prova_1 += 1\n",
        "        elif pior_nota == aluno[1]:\n",
        "            alunos_prova_2 += 1\n",
        "        else:\n",
        "            alunos_prova_3 += 1\n",
        "\n",
        "    print(\"O número de alunos cuja pior nota foi na prova 1 é:\", alunos_prova_1)\n",
        "    print(\"O número de alunos cuja pior nota foi na prova 2 é:\", alunos_prova_2)\n",
        "    print(\"O número de alunos cuja pior nota foi na prova 3 é:\", alunos_prova_3)\n",
        "\n",
        "\n",
        "if __name__ == \"__main__\":\n",
        "    main()"
      ],
      "metadata": {
        "colab": {
          "base_uri": "https://localhost:8080/"
        },
        "id": "NzlmQpHUP26k",
        "outputId": "485ad079-e15e-41b8-db5d-6b113caeba81"
      },
      "execution_count": 56,
      "outputs": [
        {
          "output_type": "stream",
          "name": "stdout",
          "text": [
            "Digite a nota do aluno 0 na prova 1: 1\n",
            "Digite a nota do aluno 0 na prova 2: 10\n",
            "Digite a nota do aluno 0 na prova 3: 7\n",
            "Digite a nota do aluno 1 na prova 1: 0\n",
            "Digite a nota do aluno 1 na prova 2: 3\n",
            "Digite a nota do aluno 1 na prova 3: 20\n",
            "Digite a nota do aluno 2 na prova 1: 12\n",
            "Digite a nota do aluno 2 na prova 2: 2\n",
            "Digite a nota do aluno 2 na prova 3: 4\n",
            "Digite a nota do aluno 3 na prova 1: 1\n",
            "Digite a nota do aluno 3 na prova 2: 24\n",
            "Digite a nota do aluno 3 na prova 3: 30\n",
            "Digite a nota do aluno 4 na prova 1: 1\n",
            "Digite a nota do aluno 4 na prova 2: 1\n",
            "Digite a nota do aluno 4 na prova 3: 1\n",
            "Digite a nota do aluno 5 na prova 1: 1\n",
            "Digite a nota do aluno 5 na prova 2: 1\n",
            "Digite a nota do aluno 5 na prova 3: 1\n",
            "Digite a nota do aluno 6 na prova 1: 1\n",
            "Digite a nota do aluno 6 na prova 2: 1\n",
            "Digite a nota do aluno 6 na prova 3: 1\n",
            "Digite a nota do aluno 7 na prova 1: 1\n",
            "Digite a nota do aluno 7 na prova 2: 1\n",
            "Digite a nota do aluno 7 na prova 3: 1\n",
            "Digite a nota do aluno 8 na prova 1: 1\n",
            "Digite a nota do aluno 8 na prova 2: 1\n",
            "Digite a nota do aluno 8 na prova 3: 1\n",
            "Digite a nota do aluno 9 na prova 1: 1\n",
            "Digite a nota do aluno 9 na prova 2: 1\n",
            "Digite a nota do aluno 9 na prova 3: 1\n",
            "O número de alunos cuja pior nota foi na prova 1 é: 9\n",
            "O número de alunos cuja pior nota foi na prova 2 é: 1\n",
            "O número de alunos cuja pior nota foi na prova 3 é: 0\n"
          ]
        }
      ]
    },
    {
      "cell_type": "markdown",
      "source": [
        "Faça um programa em Python que receba do usuario dois vetores, A e B, com 10 numeros inteiros cada. Crie um novo vetor denominado C calculando C = A - B. Mostre na tela os dados do vetor C."
      ],
      "metadata": {
        "id": "yXZpfRwUUuIM"
      }
    },
    {
      "cell_type": "code",
      "source": [
        "def main():\n",
        "    vetor_a = []\n",
        "    vetor_b = []\n",
        "    vetor_c = []\n",
        "\n",
        "    for i in range(10):\n",
        "        vetor_a.append(int(input(\"Digite o elemento %d do vetor A: \" % i)))\n",
        "        vetor_b.append(int(input(\"Digite o elemento %d do vetor B: \" % i)))\n",
        "\n",
        "    for i in range(10):\n",
        "        vetor_c.append(vetor_a[i] - vetor_b[i])\n",
        "\n",
        "    print(\"Vetor C:\")\n",
        "    for i in range(10):\n",
        "        print(vetor_c[i])\n",
        "\n",
        "\n",
        "if __name__ == \"__main__\":\n",
        "    main()"
      ],
      "metadata": {
        "id": "pY0_hxRiUQdb"
      },
      "execution_count": null,
      "outputs": []
    },
    {
      "cell_type": "markdown",
      "source": [
        "Faça um programa em Python que receba 6 numeros inteiros e mostre:\n",
        "\n",
        "• Os numeros pares digitados;\n",
        "\n",
        "• A soma dos numeros pares digitados;\n",
        "\n",
        "• Os numeros   ımpares digitados;\n",
        "\n",
        "• A quantidade de numeros  ímpares\n"
      ],
      "metadata": {
        "id": "0HfK4D2CVLhA"
      }
    },
    {
      "cell_type": "code",
      "source": [
        "def main():\n",
        "    numeros = []\n",
        "    numeros_pares = []\n",
        "    numeros_impares = []\n",
        "    soma_pares = 0\n",
        "\n",
        "    for i in range(6):\n",
        "        numeros.append(int(input(\"Digite um número: \")))\n",
        "\n",
        "    for numero in numeros:\n",
        "        if numero % 2 == 0:\n",
        "            numeros_pares.append(numero)\n",
        "            soma_pares += numero\n",
        "        else:\n",
        "            numeros_impares.append(numero)\n",
        "\n",
        "    print(\"Os números pares digitados são:\")\n",
        "    for numero in numeros_pares:\n",
        "        print(numero)\n",
        "\n",
        "    print(\"A soma dos números pares digitados é:\", soma_pares)\n",
        "\n",
        "    print(\"Os números ímpares digitados são:\")\n",
        "    for numero in numeros_impares:\n",
        "        print(numero)\n",
        "\n",
        "    print(\"A quantidade de números ímpares digitados é:\", len(numeros_impares))\n",
        "\n",
        "\n",
        "if __name__ == \"__main__\":\n",
        "    main()"
      ],
      "metadata": {
        "colab": {
          "base_uri": "https://localhost:8080/"
        },
        "id": "oUkK64liVZbq",
        "outputId": "757f173e-fb8f-4f1f-dc9d-80c880c9276c"
      },
      "execution_count": 58,
      "outputs": [
        {
          "output_type": "stream",
          "name": "stdout",
          "text": [
            "Digite um número: 11\n",
            "Digite um número: 11\n",
            "Digite um número: 11\n",
            "Digite um número: 12\n",
            "Digite um número: 12\n",
            "Digite um número: 12\n",
            "Os números pares digitados são:\n",
            "12\n",
            "12\n",
            "12\n",
            "A soma dos números pares digitados é: 36\n",
            "Os números ímpares digitados são:\n",
            "11\n",
            "11\n",
            "11\n",
            "A quantidade de números ímpares digitados é: 3\n"
          ]
        }
      ]
    }
  ]
}
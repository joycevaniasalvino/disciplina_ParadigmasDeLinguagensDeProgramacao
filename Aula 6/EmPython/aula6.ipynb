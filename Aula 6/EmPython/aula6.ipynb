{
  "nbformat": 4,
  "nbformat_minor": 0,
  "metadata": {
    "colab": {
      "provenance": []
    },
    "kernelspec": {
      "name": "python3",
      "display_name": "Python 3"
    },
    "language_info": {
      "name": "python"
    }
  },
  "cells": [
    {
      "cell_type": "markdown",
      "source": [
        "codigo do professor:"
      ],
      "metadata": {
        "id": "LkEUPdnSfiE_"
      }
    },
    {
      "cell_type": "code",
      "source": [
        "# Crie um dicionário que é uma agenda e coloque nele os seguintes dados: chave (cpf),\n",
        "# nome, idade, telefone. O programa deve ler um número indeterminado de dados, criar a\n",
        "# agenda e imprimir todos os itens do dicionário no formato chave: nome, idade, fone.\n",
        "\n",
        "def main():\n",
        "    # Cria um dicionário vazio\n",
        "    agenda = {}\n",
        "\n",
        "    # Lê os dados da agenda\n",
        "    while True:\n",
        "        cpf = input(\"Digite o CPF: \")\n",
        "        nome = input(\"Digite o nome: \")\n",
        "        idade = input(\"Digite a idade: \")\n",
        "        telefone = input(\"Digite o telefone: \")\n",
        "\n",
        "        # Adiciona os dados ao dicionário\n",
        "        agenda[cpf] = {\n",
        "            \"nome\": nome,\n",
        "            \"idade\": idade,\n",
        "            \"telefone\": telefone,\n",
        "        }\n",
        "\n",
        "        # Pergunta se o usuário deseja continuar\n",
        "        continuar = input(\"Deseja continuar? (s/n): \")\n",
        "        if continuar != \"s\":\n",
        "            break\n",
        "\n",
        "    # Imprime os itens do dicionário\n",
        "    for cpf, contato in agenda.items():\n",
        "        print(cpf, contato[\"nome\"], contato[\"idade\"], contato[\"telefone\"])\n",
        "\n",
        "\n",
        "if __name__ == \"__main__\":\n",
        "    main()\n"
      ],
      "metadata": {
        "colab": {
          "base_uri": "https://localhost:8080/"
        },
        "id": "4U5msDnnfauZ",
        "outputId": "0027ed08-7180-43a3-9f5c-579c44f798f3"
      },
      "execution_count": null,
      "outputs": [
        {
          "output_type": "stream",
          "name": "stdout",
          "text": [
            "Digite o CPF: 000.000.000-00\n",
            "Digite o nome: fulano\n",
            "Digite a idade: 21\n",
            "Digite o telefone: 00 0 0000-0000\n",
            "Deseja continuar? (s/n): s\n",
            "Digite o CPF: 000.000.000-00\n",
            "Digite o nome: fulano\n",
            "Digite a idade: 21\n",
            "Digite o telefone: 00 0 0000-0000\n",
            "Deseja continuar? (s/n): n\n",
            "000.000.000-00 fulano 21 00 0 0000-0000\n"
          ]
        }
      ]
    },
    {
      "cell_type": "markdown",
      "source": [
        "codigo modificado:"
      ],
      "metadata": {
        "id": "ydyY6b2ZfeFJ"
      }
    },
    {
      "cell_type": "code",
      "source": [
        "# Crie um dicionário que é uma agenda e coloque nele os seguintes dados: chave (cpf),\n",
        "# nome, idade, telefone. O programa deve ler um número indeterminado de dados, criar a\n",
        "# agenda e imprimir todos os itens do dicionário no formato chave: nome, idade, fone.\n",
        "\n",
        "def addNoDicionario(agenda, cpf, nome, idade, telefone):\n",
        "          # Adiciona os dados ao dicionário\n",
        "          agenda[cpf] = {\n",
        "              \"nome\": nome,\n",
        "              \"idade\": idade,\n",
        "              \"telefone\": telefone,\n",
        "          }\n",
        "\n",
        "def imprimeDadosDoDicionario(agenda):\n",
        "    # Imprime os itens do dicionário\n",
        "    for cpf, contato in agenda.items():\n",
        "        print(cpf,\":\", contato[\"nome\"],\",\", contato[\"idade\"],\",\", contato[\"telefone\"],\".\")\n",
        "\n",
        "\n",
        "def leDadosDaAgenda(agenda):\n",
        "  # Lê os dados da agenda\n",
        "    while True:\n",
        "        cpf = input(\"Digite o CPF: \")\n",
        "        nome = input(\"Digite o nome: \")\n",
        "        idade = input(\"Digite a idade: \")\n",
        "        telefone = input(\"Digite o telefone: \")\n",
        "\n",
        "        addNoDicionario(agenda, cpf, nome, idade, telefone)\n",
        "\n",
        "\n",
        "        # Pergunta se o usuário deseja continuar\n",
        "        continuar = input(\"\\nDeseja continuar? (s/n): \")\n",
        "        if continuar != \"s\":\n",
        "            print(\"\\n\")\n",
        "            break\n",
        "        print(\"\\n\")\n",
        "\n",
        "def main():\n",
        "    # Cria um dicionário vazio\n",
        "    agenda = {}\n",
        "\n",
        "    leDadosDaAgenda(agenda)\n",
        "\n",
        "    imprimeDadosDoDicionario(agenda)\n",
        "\n",
        "\n",
        "if __name__ == \"__main__\":\n",
        "    main()\n"
      ],
      "metadata": {
        "id": "YbI4uVVlfmWW",
        "colab": {
          "base_uri": "https://localhost:8080/"
        },
        "outputId": "d062e49a-1759-4064-8d88-2c65390f6236"
      },
      "execution_count": 30,
      "outputs": [
        {
          "output_type": "stream",
          "name": "stdout",
          "text": [
            "Digite o CPF: 000.000.000-00\n",
            "Digite o nome: Fulano\n",
            "Digite a idade: 00\n",
            "Digite o telefone: (00) 0 0000-0000\n",
            "\n",
            "Deseja continuar? (s/n): s\n",
            "\n",
            "\n",
            "Digite o CPF: 111.111.111-11\n",
            "Digite o nome: Fulano2\n",
            "Digite a idade: 11\n",
            "Digite o telefone: (11) 1 1111-1111\n",
            "\n",
            "Deseja continuar? (s/n): n\n",
            "\n",
            "\n",
            "000.000.000-00 : Fulano , 00 , (00) 0 0000-0000 .\n",
            "111.111.111-11 : Fulano2 , 11 , (11) 1 1111-1111 .\n"
          ]
        }
      ]
    },
    {
      "cell_type": "markdown",
      "source": [
        "Codigo do professor:"
      ],
      "metadata": {
        "id": "laGd7NiYfqRt"
      }
    },
    {
      "cell_type": "code",
      "source": [
        "# Construa um dicionário com nome, salariobruto, salario liquido,\n",
        "# para número indeterminado de pessoas, nele será calculado o\n",
        "# desconto de 8% do INSS e de 10% para IRPF. Preciso que o\n",
        "# programa seja escrito na Linguagem Python de forma Otimizada..\n",
        "\n",
        "\n",
        "def main():\n",
        "    # Cria um dicionário vazio\n",
        "    folha_de_pagamento = {}\n",
        "\n",
        "    # Lê os dados da folha de pagamento\n",
        "    while True:\n",
        "        # Lê o nome e o salário bruto\n",
        "        nome = input(\"Digite o nome: \")\n",
        "        salario_bruto = float(input(\"Digite o salário bruto: \"))\n",
        "\n",
        "        # Calcula o desconto do INSS\n",
        "        desconto_inss = salario_bruto * 0.08\n",
        "\n",
        "        # Calcula o desconto do IRPF\n",
        "        desconto_irpf = 0\n",
        "        if salario_bruto > 1903.98:\n",
        "            desconto_irpf = salario_bruto * 0.10\n",
        "\n",
        "        # Calcula o salário líquido\n",
        "        salario_liquido = salario_bruto - desconto_inss - desconto_irpf\n",
        "\n",
        "        # Adiciona os dados ao dicionário\n",
        "        folha_de_pagamento[nome] = {\n",
        "            \"salario_bruto\": salario_bruto,\n",
        "            \"desconto_inss\": desconto_inss,\n",
        "            \"desconto_irpf\": desconto_irpf,\n",
        "            \"salario_liquido\": salario_liquido,\n",
        "        }\n",
        "\n",
        "        # Pergunta se o usuário deseja continuar\n",
        "        continuar = input(\"Deseja continuar? (s/n): \")\n",
        "        if continuar != \"s\":\n",
        "            break\n",
        "\n",
        "    # Imprime os itens do dicionário\n",
        "    for nome, dados in folha_de_pagamento.items():\n",
        "        print(nome, dados[\"salario_bruto\"], dados[\"desconto_inss\"], dados[\"desconto_irpf\"], dados[\"salario_liquido\"])\n",
        "\n",
        "\n",
        "if __name__ == \"__main__\":\n",
        "    main()\n"
      ],
      "metadata": {
        "id": "pR642DqIfx-L"
      },
      "execution_count": null,
      "outputs": []
    },
    {
      "cell_type": "markdown",
      "source": [
        "codigo modificado:"
      ],
      "metadata": {
        "id": "xtPsy3BOfwFE"
      }
    },
    {
      "cell_type": "code",
      "source": [
        "# Construa um dicionário com nome, salariobruto, salario liquido,\n",
        "# para número indeterminado de pessoas, nele será calculado o\n",
        "# desconto de 8% do INSS e de 10% para IRPF. Preciso que o\n",
        "# programa seja escrito na Linguagem Python de forma Otimizada..\n",
        "\n",
        "def calculaDescontoInss(salario_bruto):\n",
        "  # Calcula o desconto do INSS\n",
        "  desconto_inss = salario_bruto * 0.08\n",
        "  return desconto_inss\n",
        "\n",
        "\n",
        "def calculaDescontoIrpf(salario_bruto):\n",
        "  # Calcula o desconto do IRPF\n",
        "  desconto_irpf = 0\n",
        "  if salario_bruto > 1903.98:\n",
        "      desconto_irpf = salario_bruto * 0.10\n",
        "  return desconto_irpf\n",
        "\n",
        "def calculaSalarioLiquido(salario_bruto, desconto_inss, desconto_irpf ):\n",
        "  # Calcula o salário líquido\n",
        "  salario_liquido = salario_bruto - desconto_inss - desconto_irpf\n",
        "\n",
        "  return salario_liquido\n",
        "\n",
        "def leDadosDafolhaDePagamento(folha_de_pagamento):\n",
        "  # Lê os dados da folha de pagamento\n",
        "  while True:\n",
        "      # Lê o nome e o salário bruto\n",
        "      nome = input(\"Digite o nome: \")\n",
        "      salario_bruto = float(input(\"Digite o salário bruto: \"))\n",
        "\n",
        "      desconto_inss = calculaDescontoInss(salario_bruto)\n",
        "\n",
        "      desconto_irpf = calculaDescontoIrpf(salario_bruto)\n",
        "\n",
        "      salario_liquido = calculaSalarioLiquido(salario_bruto, desconto_inss, desconto_irpf )\n",
        "\n",
        "      addDadosNaFolhaDePagamento(folha_de_pagamento, nome, salario_bruto, desconto_inss, desconto_irpf, salario_liquido)\n",
        "\n",
        "      # Pergunta se o usuário deseja continuar\n",
        "      continuar = input(\"\\nDeseja continuar? (s/n): \")\n",
        "      if continuar != \"s\":\n",
        "        print(\"\\n\")\n",
        "        break\n",
        "      print(\"\\n\")\n",
        "\n",
        "def addDadosNaFolhaDePagamento(folha_de_pagamento, nome, salario_bruto, desconto_inss, desconto_irpf, salario_liquido):\n",
        "  # Adiciona os dados ao dicionário\n",
        "        folha_de_pagamento[nome] = {\n",
        "            \"salario_bruto\": salario_bruto,\n",
        "            \"desconto_inss\": desconto_inss,\n",
        "            \"desconto_irpf\": desconto_irpf,\n",
        "            \"salario_liquido\": salario_liquido,\n",
        "        }\n",
        "\n",
        "def imprimeDadosDaFolhaDePagamento(folha_de_pagamento):\n",
        "   # Imprime os itens do dicionário\n",
        "    for nome, dados in folha_de_pagamento.items():\n",
        "        print(nome,\":\", dados[\"salario_bruto\"],\",\", dados[\"desconto_inss\"],\",\", dados[\"desconto_irpf\"],\",\", dados[\"salario_liquido\"],\".\")\n",
        "\n",
        "def main():\n",
        "    # Cria um dicionário vazio\n",
        "    folha_de_pagamento = {}\n",
        "\n",
        "    leDadosDafolhaDePagamento(folha_de_pagamento)\n",
        "\n",
        "    imprimeDadosDaFolhaDePagamento(folha_de_pagamento)\n",
        "\n",
        "\n",
        "if __name__ == \"__main__\":\n",
        "    main()\n"
      ],
      "metadata": {
        "id": "3RFiUyEDfpwe",
        "colab": {
          "base_uri": "https://localhost:8080/"
        },
        "outputId": "ae297b12-0353-4ba1-b515-f90f2dc6335d"
      },
      "execution_count": 28,
      "outputs": [
        {
          "output_type": "stream",
          "name": "stdout",
          "text": [
            "Digite o nome: Fulano\n",
            "Digite o salário bruto: 2000\n",
            "\n",
            "Deseja continuar? (s/n): s\n",
            "\n",
            "\n",
            "Digite o nome: Fulano2\n",
            "Digite o salário bruto: 3000\n",
            "\n",
            "Deseja continuar? (s/n): n\n",
            "\n",
            "\n",
            "Fulano : 2000.0 , 160.0 , 200.0 , 1640.0 .\n",
            "Fulano2 : 3000.0 , 240.0 , 300.0 , 2460.0 .\n"
          ]
        }
      ]
    }
  ]
}